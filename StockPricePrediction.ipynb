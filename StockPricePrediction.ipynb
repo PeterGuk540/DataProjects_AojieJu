{
 "cells": [
  {
   "cell_type": "code",
   "execution_count": null,
   "metadata": {},
   "outputs": [],
   "source": [
    "# Data handling and processing\n",
    "import numpy as np\n",
    "import pandas as pd\n",
    "\n",
    "# Preprocessing and metrics\n",
    "from sklearn.preprocessing import MinMaxScaler, StandardScaler\n",
    "from sklearn.model_selection import train_test_split\n",
    "from sklearn.metrics import mean_squared_error\n",
    "\n",
    "# Model building (TensorFlow and Keras)\n",
    "from tensorflow.keras.models import Sequential\n",
    "from tensorflow.keras.layers import Conv1D, MaxPooling1D, Flatten, Dense\n",
    "\n",
    "# Plotting\n",
    "import matplotlib.pyplot as plt\n",
    "import seaborn as sns"
   ]
  },
  {
   "cell_type": "code",
   "execution_count": null,
   "metadata": {},
   "outputs": [],
   "source": [
    "# Loading the csv file of Apple's stock price.\n",
    "data = pd.read_csv('AAPL_2006-01-01_to_2018-01-01.csv')\n",
    "print(data.head())\n",
    "\n",
    "# Converting the data to a time-series data; set 'Date' as index.\n",
    "data['Date'] = pd.to_datetime(data['Date'])\n",
    "data.set_index('Date', inplace = True)\n",
    "\n",
    "# Using the 'Close' price column for the forecasting task.\n",
    "dat = data['Close'].values"
   ]
  },
  {
   "cell_type": "code",
   "execution_count": null,
   "metadata": {},
   "outputs": [],
   "source": [
    "# Feature Scaling\n",
    "\n",
    "# Reshaping the data to 2D for scaling\n",
    "dat = dat.reshape(-1, 1)\n",
    "\n",
    "\n",
    "# Initialize the MinMaxScaler and fit-transform the data\n",
    "scaler = MinMaxScaler(feature_range = (0, 1))\n",
    "dat_scaled = scaler.fit_transform(dat)"
   ]
  },
  {
   "cell_type": "code",
   "execution_count": null,
   "metadata": {},
   "outputs": [],
   "source": [
    "# Using the sliding window approach to create sequences of the time series of Apple's stock price\n",
    "def create_sequences(dat, window_size):\n",
    "    X, y = [], []\n",
    "    for i in range(len(dat) - window_size):\n",
    "        X.append(dat[i:i + window_size])\n",
    "        y.append(dat[i + window_size])\n",
    "    return np.array(X), np.array(y)\n",
    "\n",
    "# Set window size (how many past time steps to use for prediction)\n",
    "window_size = 10\n",
    "\n",
    "# Create sequences from the scaled data\n",
    "X, y = create_sequences(dat_scaled, window_size)"
   ]
  },
  {
   "cell_type": "code",
   "execution_count": null,
   "metadata": {},
   "outputs": [],
   "source": [
    "# Reshape for CNN input\n",
    "\n",
    "# Reshape X to be [samples, timesteps, features] for CNN input\n",
    "X = X.reshape((X.shape[0], X.shape[1], 1))\n",
    "print(X.shape)"
   ]
  },
  {
   "cell_type": "code",
   "execution_count": null,
   "metadata": {},
   "outputs": [],
   "source": [
    "# Split the data into training and testing sets (70-30 split)\n",
    "X_train, X_test, y_train, y_test = train_test_split(X, y, test_size = 0.3, shuffle = False)"
   ]
  },
  {
   "cell_type": "code",
   "execution_count": null,
   "metadata": {},
   "outputs": [],
   "source": [
    "# Build the CNN model\n",
    "model = Sequential()\n",
    "\n",
    "# Add 1D convolutional layer\n",
    "# Conv1D, because of its handling time-series data. If image, Conv2D\n",
    "# filters, number of filters to learn different patterns. \n",
    "# kernel_size, the size of window \n",
    "model.add(Conv1D(filters = 64, kernel_size = 3, activation = 'relu', input_shape = (window_size, 1)))\n",
    "\n",
    "# Add average pooling layer\n",
    "from tensorflow.keras.layers import AveragePooling1D\n",
    "model.add(AveragePooling1D(pool_size = 2))\n",
    "\n",
    "# Flatten the output\n",
    "model.add(Flatten())\n",
    "\n",
    "# Add fully connected layer\n",
    "model.add(Dense(50, activation = 'relu'))\n",
    "\n",
    "# Output layer (predicts the next value in the sequence)\n",
    "model.add(Dense(1))\n",
    "\n",
    "# Compile the model with Adam optimizer and mean squared error loss\n",
    "model.compile(optimizer = 'adam', loss = 'mean_squared_error')"
   ]
  },
  {
   "cell_type": "code",
   "execution_count": null,
   "metadata": {},
   "outputs": [],
   "source": [
    "# Train the model\n",
    "history = model.fit(X_train, y_train, epochs = 50, batch_size = 32, validation_data = (X_test, y_test))"
   ]
  },
  {
   "cell_type": "code",
   "execution_count": null,
   "metadata": {},
   "outputs": [],
   "source": [
    "# Evaluate the model using mean squared error\n",
    "mse = mean_squared_error(y_test_rescaled, y_pred_rescaled)\n",
    "print(f'Mean Squared Error: {mse}')\n",
    "\n",
    "# Plotting the actual vs predicted values\n",
    "plt.figure(figsize = (10, 6))\n",
    "plt.plot(y_test_rescaled, label = 'Actual Price')\n",
    "plt.plot(y_pred_rescaled, label = 'Predicted Price')\n",
    "plt.title('Stock Price Prediction using CNN')\n",
    "plt.xlabel('Time Steps')\n",
    "plt.ylabel('Stock price')\n",
    "plt.legend()\n",
    "plt.show()"
   ]
  },
  {
   "cell_type": "code",
   "execution_count": null,
   "metadata": {},
   "outputs": [],
   "source": [
    "# Number of windows to use for future prediction\n",
    "num_windows = 10\n",
    "\n",
    "\n",
    "# Number of future predictions to make\n",
    "num_future_predictions = 5\n",
    "\n",
    "# Store predictions from each of the windows\n",
    "all_future_predictions = []\n",
    "\n",
    "# Loop over the latest num_windows\n",
    "for start_idx in range(len(X_test) - num_windows, len(X_test)): # Iteration here.\n",
    "    # Get the latest window of data for predicting future values\n",
    "    latest_window = X_test[start_idx]  # Shape: (window_size, 1)\n",
    "\n",
    "    # Create a list to store the future predictions for this window\n",
    "    future_predictions = []\n",
    "\n",
    "    # Iteratively predict future values for each window\n",
    "    for _ in range(num_future_predictions):\n",
    "        # Reshape the latest window to match the model's input shape\n",
    "        latest_window_reshaped = latest_window.reshape(1, window_size, 1)\n",
    "        \n",
    "        # Predict the next value\n",
    "        future_pred = model.predict(latest_window_reshaped)\n",
    "        \n",
    "        # Inverse transform the predicted value to the original scale\n",
    "        future_pred_rescaled = scaler.inverse_transform(future_pred)\n",
    "        \n",
    "        # Append the predicted value to the list\n",
    "        future_predictions.append(future_pred_rescaled[0][0])\n",
    "        \n",
    "        # Update the latest window: remove the first value and add the predicted value\n",
    "        latest_window = np.append(latest_window[1:], future_pred).reshape(window_size, 1)\n",
    "\n",
    "    # Store the predictions from this window\n",
    "    all_future_predictions.append(future_predictions)\n",
    "# Convert all future predictions to a numpy array for easier manipulation\n",
    "all_future_predictions = np.array(all_future_predictions)\n",
    "\n",
    "# Average the predictions from each window for a final prediction sequence\n",
    "final_future_predictions = np.mean(all_future_predictions, axis=0)\n",
    "std_dev_future = np.std(all_future_predictions, axis=0)\n",
    "\n",
    "# Calculate the 95% confidence interval (using 1.96 for a normal distribution)\n",
    "ci_upper = final_future_predictions + 1.96 * std_dev_future\n",
    "ci_lower = final_future_predictions - 1.96 * std_dev_future\n",
    "\n",
    "\n",
    "# Plotting the actual vs predicted values with the aggregated future predictions\n",
    "plt.figure(figsize=(10, 6))\n",
    "plt.plot(range(len(y_test_rescaled)), y_test_rescaled, label='Actual Price', color='blue')\n",
    "plt.plot(range(len(y_test_rescaled), len(y_test_rescaled) + num_future_predictions), final_future_predictions, label='Future Predictions', color='red')\n",
    "plt.fill_between(range(len(y_test_rescaled), len(y_test_rescaled) + num_future_predictions), ci_lower, ci_upper, color='red', alpha=0.2, label='95% Confidence Interval')\n",
    "plt.title('Stock Price Prediction using CNN (Aggregated Future Predictions)')\n",
    "plt.xlabel('Time Steps')\n",
    "plt.ylabel('Stock Price')\n",
    "plt.legend()\n",
    "plt.show()\n"
   ]
  }
 ],
 "metadata": {
  "kernelspec": {
   "display_name": "Python 3",
   "language": "python",
   "name": "python3"
  },
  "language_info": {
   "name": "python",
   "version": "3.12.2"
  }
 },
 "nbformat": 4,
 "nbformat_minor": 2
}
